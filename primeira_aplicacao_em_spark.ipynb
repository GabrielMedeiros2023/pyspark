{
  "nbformat": 4,
  "nbformat_minor": 0,
  "metadata": {
    "colab": {
      "provenance": [],
      "collapsed_sections": [
        "nXeqPr3Osygw",
        "k-l6wcLAtRXU",
        "iT03hF3gu3tu"
      ]
    },
    "kernelspec": {
      "name": "python3",
      "display_name": "Python 3"
    },
    "language_info": {
      "name": "python"
    }
  },
  "cells": [
    {
      "cell_type": "markdown",
      "source": [
        "# **Instalando o PySpark no Google Colab**"
      ],
      "metadata": {
        "id": "nXeqPr3Osygw"
      }
    },
    {
      "cell_type": "code",
      "source": [
        "!pip install pyspark py4j"
      ],
      "metadata": {
        "colab": {
          "base_uri": "https://localhost:8080/"
        },
        "id": "lCDJecz8niSH",
        "outputId": "718bbfc1-6dfe-4484-8e5a-e4362a3058cb"
      },
      "execution_count": null,
      "outputs": [
        {
          "output_type": "stream",
          "name": "stdout",
          "text": [
            "Looking in indexes: https://pypi.org/simple, https://us-python.pkg.dev/colab-wheels/public/simple/\n",
            "Requirement already satisfied: pyspark in /usr/local/lib/python3.10/dist-packages (3.4.0)\n",
            "Requirement already satisfied: py4j in /usr/local/lib/python3.10/dist-packages (0.10.9.7)\n"
          ]
        }
      ]
    },
    {
      "cell_type": "markdown",
      "source": [
        "# **Instalando findspark**"
      ],
      "metadata": {
        "id": "k-l6wcLAtRXU"
      }
    },
    {
      "cell_type": "code",
      "source": [
        "!pip install -q findspark"
      ],
      "metadata": {
        "id": "QYKtWSRSo6xY"
      },
      "execution_count": null,
      "outputs": []
    },
    {
      "cell_type": "markdown",
      "source": [
        "# **Iniciando o FindSpark para utilizar o PySpark depois**"
      ],
      "metadata": {
        "id": "ABmHF_aMtgHu"
      }
    },
    {
      "cell_type": "code",
      "source": [
        "import findspark\n",
        "findspark.init()"
      ],
      "metadata": {
        "id": "oo2XpL6voz76"
      },
      "execution_count": null,
      "outputs": []
    },
    {
      "cell_type": "markdown",
      "source": [
        "# **Criando uma sessão no Spark, que permite trabalhar com RDD, Dataframe e Dataset.**"
      ],
      "metadata": {
        "id": "CJqs_s-ut8Ob"
      }
    },
    {
      "cell_type": "code",
      "source": [
        "from pyspark.sql import SparkSession\n",
        "spark = SparkSession.builder.master(\"local[*]\").getOrCreate()"
      ],
      "metadata": {
        "id": "WAGSNMHln-n9"
      },
      "execution_count": null,
      "outputs": []
    },
    {
      "cell_type": "markdown",
      "source": [
        "# **Utilizando a sessão criada para acessar um dataset sobre residências na califórnia:**"
      ],
      "metadata": {
        "id": "8Mag_ylPuQ9A"
      }
    },
    {
      "cell_type": "markdown",
      "source": [],
      "metadata": {
        "id": "0Omy8z97uGm_"
      }
    },
    {
      "cell_type": "code",
      "source": [
        "dataset = spark.read.csv('/content/sample_data/california_housing_test.csv',inferSchema=True, header =True)"
      ],
      "metadata": {
        "id": "uXWfokWkpigF"
      },
      "execution_count": null,
      "outputs": []
    },
    {
      "cell_type": "markdown",
      "source": [
        "# **Teremos os dados do arquivo “california_housing_test.csv” disponíveis na variável “dataset”. Para visualizar a estrutura desses dados, executaremos um printSchema():**"
      ],
      "metadata": {
        "id": "tCyQiPF5uj9s"
      }
    },
    {
      "cell_type": "code",
      "source": [
        "dataset.printSchema()"
      ],
      "metadata": {
        "colab": {
          "base_uri": "https://localhost:8080/"
        },
        "id": "skIXSWegpuGi",
        "outputId": "a07e7d2b-a0a8-454b-ac31-290a8d53a066"
      },
      "execution_count": null,
      "outputs": [
        {
          "output_type": "stream",
          "name": "stdout",
          "text": [
            "root\n",
            " |-- longitude: double (nullable = true)\n",
            " |-- latitude: double (nullable = true)\n",
            " |-- housing_median_age: double (nullable = true)\n",
            " |-- total_rooms: double (nullable = true)\n",
            " |-- total_bedrooms: double (nullable = true)\n",
            " |-- population: double (nullable = true)\n",
            " |-- households: double (nullable = true)\n",
            " |-- median_income: double (nullable = true)\n",
            " |-- median_house_value: double (nullable = true)\n",
            "\n"
          ]
        }
      ]
    },
    {
      "cell_type": "markdown",
      "source": [],
      "metadata": {
        "id": "hazym6QMuvZK"
      }
    },
    {
      "cell_type": "code",
      "source": [
        "df = spark.read.csv('/content/sample_data/california_housing_train.csv',header =True, inferSchema=True)"
      ],
      "metadata": {
        "id": "eJr_ofOlq3g2"
      },
      "execution_count": null,
      "outputs": []
    },
    {
      "cell_type": "code",
      "source": [
        "df.printSchema()"
      ],
      "metadata": {
        "colab": {
          "base_uri": "https://localhost:8080/"
        },
        "id": "4sUza0c0rIUK",
        "outputId": "76c82b20-d8e9-4445-c839-60cb0fd3bc23"
      },
      "execution_count": null,
      "outputs": [
        {
          "output_type": "stream",
          "name": "stdout",
          "text": [
            "root\n",
            " |-- longitude: double (nullable = true)\n",
            " |-- latitude: double (nullable = true)\n",
            " |-- housing_median_age: double (nullable = true)\n",
            " |-- total_rooms: double (nullable = true)\n",
            " |-- total_bedrooms: double (nullable = true)\n",
            " |-- population: double (nullable = true)\n",
            " |-- households: double (nullable = true)\n",
            " |-- median_income: double (nullable = true)\n",
            " |-- median_house_value: double (nullable = true)\n",
            "\n"
          ]
        }
      ]
    },
    {
      "cell_type": "markdown",
      "source": [
        "# **Mostrar as 10 linhas da tabela california_housing_train:**"
      ],
      "metadata": {
        "id": "iT03hF3gu3tu"
      }
    },
    {
      "cell_type": "code",
      "source": [
        "df.head(10)"
      ],
      "metadata": {
        "colab": {
          "base_uri": "https://localhost:8080/"
        },
        "id": "qINTiNWpruN0",
        "outputId": "2378ded5-b0c3-4691-9875-70c408bdbae7"
      },
      "execution_count": null,
      "outputs": [
        {
          "output_type": "execute_result",
          "data": {
            "text/plain": [
              "[Row(longitude=-114.31, latitude=34.19, housing_median_age=15.0, total_rooms=5612.0, total_bedrooms=1283.0, population=1015.0, households=472.0, median_income=1.4936, median_house_value=66900.0),\n",
              " Row(longitude=-114.47, latitude=34.4, housing_median_age=19.0, total_rooms=7650.0, total_bedrooms=1901.0, population=1129.0, households=463.0, median_income=1.82, median_house_value=80100.0),\n",
              " Row(longitude=-114.56, latitude=33.69, housing_median_age=17.0, total_rooms=720.0, total_bedrooms=174.0, population=333.0, households=117.0, median_income=1.6509, median_house_value=85700.0),\n",
              " Row(longitude=-114.57, latitude=33.64, housing_median_age=14.0, total_rooms=1501.0, total_bedrooms=337.0, population=515.0, households=226.0, median_income=3.1917, median_house_value=73400.0),\n",
              " Row(longitude=-114.57, latitude=33.57, housing_median_age=20.0, total_rooms=1454.0, total_bedrooms=326.0, population=624.0, households=262.0, median_income=1.925, median_house_value=65500.0),\n",
              " Row(longitude=-114.58, latitude=33.63, housing_median_age=29.0, total_rooms=1387.0, total_bedrooms=236.0, population=671.0, households=239.0, median_income=3.3438, median_house_value=74000.0),\n",
              " Row(longitude=-114.58, latitude=33.61, housing_median_age=25.0, total_rooms=2907.0, total_bedrooms=680.0, population=1841.0, households=633.0, median_income=2.6768, median_house_value=82400.0),\n",
              " Row(longitude=-114.59, latitude=34.83, housing_median_age=41.0, total_rooms=812.0, total_bedrooms=168.0, population=375.0, households=158.0, median_income=1.7083, median_house_value=48500.0),\n",
              " Row(longitude=-114.59, latitude=33.61, housing_median_age=34.0, total_rooms=4789.0, total_bedrooms=1175.0, population=3134.0, households=1056.0, median_income=2.1782, median_house_value=58400.0),\n",
              " Row(longitude=-114.6, latitude=34.83, housing_median_age=46.0, total_rooms=1497.0, total_bedrooms=309.0, population=787.0, households=271.0, median_income=2.1908, median_house_value=48100.0)]"
            ]
          },
          "metadata": {},
          "execution_count": 13
        }
      ]
    },
    {
      "cell_type": "markdown",
      "source": [
        "# **Parar a aplicação:**"
      ],
      "metadata": {
        "id": "_j0MT4Ndvg-6"
      }
    },
    {
      "cell_type": "code",
      "source": [
        "spark.stop()"
      ],
      "metadata": {
        "id": "X8MZPskDvkHi"
      },
      "execution_count": null,
      "outputs": []
    }
  ]
}